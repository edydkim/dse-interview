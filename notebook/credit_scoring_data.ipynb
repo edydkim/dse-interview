{
 "cells": [
  {
   "cell_type": "code",
   "execution_count": 1,
   "id": "09ae6694-cb44-4f56-93f1-dff72c246bec",
   "metadata": {},
   "outputs": [],
   "source": [
    "# Filter the uneccesary warnings\n",
    "import warnings\n",
    "warnings.filterwarnings(\"ignore\")\n"
   ]
  },
  {
   "cell_type": "code",
   "execution_count": 2,
   "id": "bb32a777-1a5a-41ba-8013-c03e8ee26905",
   "metadata": {},
   "outputs": [],
   "source": [
    "# Import pandas and numpy\n",
    "import pandas as pd\n",
    "import numpy as np\n",
    "\n",
    "# Fix the random seed\n",
    "np.random.seed(7)"
   ]
  },
  {
   "cell_type": "markdown",
   "id": "c87b38d0-33b0-4a61-828b-14b1c2f4e26b",
   "metadata": {},
   "source": [
    "# 1. Loading and understanding the dataset"
   ]
  },
  {
   "cell_type": "code",
   "execution_count": 3,
   "id": "39d70ad9-eceb-40a6-a99d-cbb3deaf5b2e",
   "metadata": {},
   "outputs": [],
   "source": [
    "## Load the dictionary"
   ]
  },
  {
   "cell_type": "code",
   "execution_count": 4,
   "id": "89137b86-8d27-4f40-ab37-f974eb8e22f9",
   "metadata": {},
   "outputs": [
    {
     "data": {
      "text/html": [
       "<div>\n",
       "<style scoped>\n",
       "    .dataframe tbody tr th:only-of-type {\n",
       "        vertical-align: middle;\n",
       "    }\n",
       "\n",
       "    .dataframe tbody tr th {\n",
       "        vertical-align: top;\n",
       "    }\n",
       "\n",
       "    .dataframe thead th {\n",
       "        text-align: right;\n",
       "    }\n",
       "</style>\n",
       "<table border=\"1\" class=\"dataframe\">\n",
       "  <thead>\n",
       "    <tr style=\"text-align: right;\">\n",
       "      <th></th>\n",
       "      <th>Unnamed: 0</th>\n",
       "      <th>Unnamed: 1</th>\n",
       "      <th>Unnamed: 2</th>\n",
       "    </tr>\n",
       "  </thead>\n",
       "  <tbody>\n",
       "    <tr>\n",
       "      <th>0</th>\n",
       "      <td>Variable Name</td>\n",
       "      <td>Description</td>\n",
       "      <td>Type</td>\n",
       "    </tr>\n",
       "    <tr>\n",
       "      <th>1</th>\n",
       "      <td>SeriousDlqin2yrs</td>\n",
       "      <td>Person experienced 90 days past due delinquenc...</td>\n",
       "      <td>Y/N</td>\n",
       "    </tr>\n",
       "    <tr>\n",
       "      <th>2</th>\n",
       "      <td>RevolvingUtilizationOfUnsecuredLines</td>\n",
       "      <td>Total balance on credit cards and personal lin...</td>\n",
       "      <td>percentage</td>\n",
       "    </tr>\n",
       "    <tr>\n",
       "      <th>3</th>\n",
       "      <td>age</td>\n",
       "      <td>Age of borrower in years</td>\n",
       "      <td>integer</td>\n",
       "    </tr>\n",
       "    <tr>\n",
       "      <th>4</th>\n",
       "      <td>NumberOfTime30-59DaysPastDueNotWorse</td>\n",
       "      <td>Number of times borrower has been 30-59 days p...</td>\n",
       "      <td>integer</td>\n",
       "    </tr>\n",
       "    <tr>\n",
       "      <th>5</th>\n",
       "      <td>DebtRatio</td>\n",
       "      <td>Monthly debt payments, alimony,living costs di...</td>\n",
       "      <td>percentage</td>\n",
       "    </tr>\n",
       "    <tr>\n",
       "      <th>6</th>\n",
       "      <td>MonthlyIncome</td>\n",
       "      <td>Monthly income</td>\n",
       "      <td>real</td>\n",
       "    </tr>\n",
       "    <tr>\n",
       "      <th>7</th>\n",
       "      <td>NumberOfOpenCreditLinesAndLoans</td>\n",
       "      <td>Number of Open loans (installment like car loa...</td>\n",
       "      <td>integer</td>\n",
       "    </tr>\n",
       "    <tr>\n",
       "      <th>8</th>\n",
       "      <td>NumberOfTimes90DaysLate</td>\n",
       "      <td>Number of times borrower has been 90 days or m...</td>\n",
       "      <td>integer</td>\n",
       "    </tr>\n",
       "    <tr>\n",
       "      <th>9</th>\n",
       "      <td>NumberRealEstateLoansOrLines</td>\n",
       "      <td>Number of mortgage and real estate loans inclu...</td>\n",
       "      <td>integer</td>\n",
       "    </tr>\n",
       "    <tr>\n",
       "      <th>10</th>\n",
       "      <td>NumberOfTime60-89DaysPastDueNotWorse</td>\n",
       "      <td>Number of times borrower has been 60-89 days p...</td>\n",
       "      <td>integer</td>\n",
       "    </tr>\n",
       "    <tr>\n",
       "      <th>11</th>\n",
       "      <td>NumberOfDependents</td>\n",
       "      <td>Number of dependents in family excluding thems...</td>\n",
       "      <td>integer</td>\n",
       "    </tr>\n",
       "  </tbody>\n",
       "</table>\n",
       "</div>"
      ],
      "text/plain": [
       "                              Unnamed: 0  \\\n",
       "0                          Variable Name   \n",
       "1                       SeriousDlqin2yrs   \n",
       "2   RevolvingUtilizationOfUnsecuredLines   \n",
       "3                                    age   \n",
       "4   NumberOfTime30-59DaysPastDueNotWorse   \n",
       "5                              DebtRatio   \n",
       "6                          MonthlyIncome   \n",
       "7        NumberOfOpenCreditLinesAndLoans   \n",
       "8                NumberOfTimes90DaysLate   \n",
       "9           NumberRealEstateLoansOrLines   \n",
       "10  NumberOfTime60-89DaysPastDueNotWorse   \n",
       "11                    NumberOfDependents   \n",
       "\n",
       "                                           Unnamed: 1  Unnamed: 2  \n",
       "0                                         Description        Type  \n",
       "1   Person experienced 90 days past due delinquenc...         Y/N  \n",
       "2   Total balance on credit cards and personal lin...  percentage  \n",
       "3                            Age of borrower in years     integer  \n",
       "4   Number of times borrower has been 30-59 days p...     integer  \n",
       "5   Monthly debt payments, alimony,living costs di...  percentage  \n",
       "6                                      Monthly income        real  \n",
       "7   Number of Open loans (installment like car loa...     integer  \n",
       "8   Number of times borrower has been 90 days or m...     integer  \n",
       "9   Number of mortgage and real estate loans inclu...     integer  \n",
       "10  Number of times borrower has been 60-89 days p...     integer  \n",
       "11  Number of dependents in family excluding thems...     integer  "
      ]
     },
     "execution_count": 4,
     "metadata": {},
     "output_type": "execute_result"
    }
   ],
   "source": [
    "columns = pd.read_excel('./Data Dictionary.xls')\n",
    "columns"
   ]
  },
  {
   "cell_type": "markdown",
   "id": "079aa447-ef67-41cc-a76e-7978be65026c",
   "metadata": {},
   "source": [
    "## Load the dataset"
   ]
  },
  {
   "cell_type": "markdown",
   "id": "54f526cf-21ac-45c3-b1f9-2dbf2f95cec5",
   "metadata": {},
   "source": [
    "### The first 10 rows from the DataFrame"
   ]
  },
  {
   "cell_type": "code",
   "execution_count": 5,
   "id": "8ffe2b8c-e4d3-4320-aeb2-b8a7918dc953",
   "metadata": {},
   "outputs": [
    {
     "data": {
      "text/html": [
       "<div>\n",
       "<style scoped>\n",
       "    .dataframe tbody tr th:only-of-type {\n",
       "        vertical-align: middle;\n",
       "    }\n",
       "\n",
       "    .dataframe tbody tr th {\n",
       "        vertical-align: top;\n",
       "    }\n",
       "\n",
       "    .dataframe thead th {\n",
       "        text-align: right;\n",
       "    }\n",
       "</style>\n",
       "<table border=\"1\" class=\"dataframe\">\n",
       "  <thead>\n",
       "    <tr style=\"text-align: right;\">\n",
       "      <th></th>\n",
       "      <th>0</th>\n",
       "      <th>1</th>\n",
       "      <th>2</th>\n",
       "      <th>3</th>\n",
       "      <th>4</th>\n",
       "      <th>5</th>\n",
       "      <th>6</th>\n",
       "      <th>7</th>\n",
       "      <th>8</th>\n",
       "      <th>9</th>\n",
       "    </tr>\n",
       "  </thead>\n",
       "  <tbody>\n",
       "    <tr>\n",
       "      <th>Unnamed: 0</th>\n",
       "      <td>1.000000</td>\n",
       "      <td>2.000000</td>\n",
       "      <td>3.000000</td>\n",
       "      <td>4.00000</td>\n",
       "      <td>5.000000</td>\n",
       "      <td>6.000000</td>\n",
       "      <td>8.000000</td>\n",
       "      <td>10.000000</td>\n",
       "      <td>11.000000</td>\n",
       "      <td>12.000000</td>\n",
       "    </tr>\n",
       "    <tr>\n",
       "      <th>SeriousDlqin2yrs</th>\n",
       "      <td>1.000000</td>\n",
       "      <td>0.000000</td>\n",
       "      <td>0.000000</td>\n",
       "      <td>0.00000</td>\n",
       "      <td>0.000000</td>\n",
       "      <td>0.000000</td>\n",
       "      <td>0.000000</td>\n",
       "      <td>0.000000</td>\n",
       "      <td>0.000000</td>\n",
       "      <td>0.000000</td>\n",
       "    </tr>\n",
       "    <tr>\n",
       "      <th>RevolvingUtilizationOfUnsecuredLines</th>\n",
       "      <td>0.766127</td>\n",
       "      <td>0.957151</td>\n",
       "      <td>0.658180</td>\n",
       "      <td>0.23381</td>\n",
       "      <td>0.907239</td>\n",
       "      <td>0.213179</td>\n",
       "      <td>0.754464</td>\n",
       "      <td>0.189169</td>\n",
       "      <td>0.644226</td>\n",
       "      <td>0.018798</td>\n",
       "    </tr>\n",
       "    <tr>\n",
       "      <th>age</th>\n",
       "      <td>45.000000</td>\n",
       "      <td>40.000000</td>\n",
       "      <td>38.000000</td>\n",
       "      <td>30.00000</td>\n",
       "      <td>49.000000</td>\n",
       "      <td>74.000000</td>\n",
       "      <td>39.000000</td>\n",
       "      <td>57.000000</td>\n",
       "      <td>30.000000</td>\n",
       "      <td>51.000000</td>\n",
       "    </tr>\n",
       "    <tr>\n",
       "      <th>NumberOfTime30-59DaysPastDueNotWorse</th>\n",
       "      <td>2.000000</td>\n",
       "      <td>0.000000</td>\n",
       "      <td>1.000000</td>\n",
       "      <td>0.00000</td>\n",
       "      <td>1.000000</td>\n",
       "      <td>0.000000</td>\n",
       "      <td>0.000000</td>\n",
       "      <td>0.000000</td>\n",
       "      <td>0.000000</td>\n",
       "      <td>0.000000</td>\n",
       "    </tr>\n",
       "    <tr>\n",
       "      <th>DebtRatio</th>\n",
       "      <td>0.802982</td>\n",
       "      <td>0.121876</td>\n",
       "      <td>0.085113</td>\n",
       "      <td>0.03605</td>\n",
       "      <td>0.024926</td>\n",
       "      <td>0.375607</td>\n",
       "      <td>0.209940</td>\n",
       "      <td>0.606291</td>\n",
       "      <td>0.309476</td>\n",
       "      <td>0.531529</td>\n",
       "    </tr>\n",
       "    <tr>\n",
       "      <th>MonthlyIncome</th>\n",
       "      <td>9120.000000</td>\n",
       "      <td>2600.000000</td>\n",
       "      <td>3042.000000</td>\n",
       "      <td>3300.00000</td>\n",
       "      <td>63588.000000</td>\n",
       "      <td>3500.000000</td>\n",
       "      <td>3500.000000</td>\n",
       "      <td>23684.000000</td>\n",
       "      <td>2500.000000</td>\n",
       "      <td>6501.000000</td>\n",
       "    </tr>\n",
       "    <tr>\n",
       "      <th>NumberOfOpenCreditLinesAndLoans</th>\n",
       "      <td>13.000000</td>\n",
       "      <td>4.000000</td>\n",
       "      <td>2.000000</td>\n",
       "      <td>5.00000</td>\n",
       "      <td>7.000000</td>\n",
       "      <td>3.000000</td>\n",
       "      <td>8.000000</td>\n",
       "      <td>9.000000</td>\n",
       "      <td>5.000000</td>\n",
       "      <td>7.000000</td>\n",
       "    </tr>\n",
       "    <tr>\n",
       "      <th>NumberOfTimes90DaysLate</th>\n",
       "      <td>0.000000</td>\n",
       "      <td>0.000000</td>\n",
       "      <td>1.000000</td>\n",
       "      <td>0.00000</td>\n",
       "      <td>0.000000</td>\n",
       "      <td>0.000000</td>\n",
       "      <td>0.000000</td>\n",
       "      <td>0.000000</td>\n",
       "      <td>0.000000</td>\n",
       "      <td>0.000000</td>\n",
       "    </tr>\n",
       "    <tr>\n",
       "      <th>NumberRealEstateLoansOrLines</th>\n",
       "      <td>6.000000</td>\n",
       "      <td>0.000000</td>\n",
       "      <td>0.000000</td>\n",
       "      <td>0.00000</td>\n",
       "      <td>1.000000</td>\n",
       "      <td>1.000000</td>\n",
       "      <td>0.000000</td>\n",
       "      <td>4.000000</td>\n",
       "      <td>0.000000</td>\n",
       "      <td>2.000000</td>\n",
       "    </tr>\n",
       "    <tr>\n",
       "      <th>NumberOfTime60-89DaysPastDueNotWorse</th>\n",
       "      <td>0.000000</td>\n",
       "      <td>0.000000</td>\n",
       "      <td>0.000000</td>\n",
       "      <td>0.00000</td>\n",
       "      <td>0.000000</td>\n",
       "      <td>0.000000</td>\n",
       "      <td>0.000000</td>\n",
       "      <td>0.000000</td>\n",
       "      <td>0.000000</td>\n",
       "      <td>0.000000</td>\n",
       "    </tr>\n",
       "    <tr>\n",
       "      <th>NumberOfDependents</th>\n",
       "      <td>2.000000</td>\n",
       "      <td>1.000000</td>\n",
       "      <td>0.000000</td>\n",
       "      <td>0.00000</td>\n",
       "      <td>0.000000</td>\n",
       "      <td>1.000000</td>\n",
       "      <td>0.000000</td>\n",
       "      <td>2.000000</td>\n",
       "      <td>0.000000</td>\n",
       "      <td>2.000000</td>\n",
       "    </tr>\n",
       "  </tbody>\n",
       "</table>\n",
       "</div>"
      ],
      "text/plain": [
       "                                                0            1            2  \\\n",
       "Unnamed: 0                               1.000000     2.000000     3.000000   \n",
       "SeriousDlqin2yrs                         1.000000     0.000000     0.000000   \n",
       "RevolvingUtilizationOfUnsecuredLines     0.766127     0.957151     0.658180   \n",
       "age                                     45.000000    40.000000    38.000000   \n",
       "NumberOfTime30-59DaysPastDueNotWorse     2.000000     0.000000     1.000000   \n",
       "DebtRatio                                0.802982     0.121876     0.085113   \n",
       "MonthlyIncome                         9120.000000  2600.000000  3042.000000   \n",
       "NumberOfOpenCreditLinesAndLoans         13.000000     4.000000     2.000000   \n",
       "NumberOfTimes90DaysLate                  0.000000     0.000000     1.000000   \n",
       "NumberRealEstateLoansOrLines             6.000000     0.000000     0.000000   \n",
       "NumberOfTime60-89DaysPastDueNotWorse     0.000000     0.000000     0.000000   \n",
       "NumberOfDependents                       2.000000     1.000000     0.000000   \n",
       "\n",
       "                                               3             4            5  \\\n",
       "Unnamed: 0                               4.00000      5.000000     6.000000   \n",
       "SeriousDlqin2yrs                         0.00000      0.000000     0.000000   \n",
       "RevolvingUtilizationOfUnsecuredLines     0.23381      0.907239     0.213179   \n",
       "age                                     30.00000     49.000000    74.000000   \n",
       "NumberOfTime30-59DaysPastDueNotWorse     0.00000      1.000000     0.000000   \n",
       "DebtRatio                                0.03605      0.024926     0.375607   \n",
       "MonthlyIncome                         3300.00000  63588.000000  3500.000000   \n",
       "NumberOfOpenCreditLinesAndLoans          5.00000      7.000000     3.000000   \n",
       "NumberOfTimes90DaysLate                  0.00000      0.000000     0.000000   \n",
       "NumberRealEstateLoansOrLines             0.00000      1.000000     1.000000   \n",
       "NumberOfTime60-89DaysPastDueNotWorse     0.00000      0.000000     0.000000   \n",
       "NumberOfDependents                       0.00000      0.000000     1.000000   \n",
       "\n",
       "                                                6             7            8  \\\n",
       "Unnamed: 0                               8.000000     10.000000    11.000000   \n",
       "SeriousDlqin2yrs                         0.000000      0.000000     0.000000   \n",
       "RevolvingUtilizationOfUnsecuredLines     0.754464      0.189169     0.644226   \n",
       "age                                     39.000000     57.000000    30.000000   \n",
       "NumberOfTime30-59DaysPastDueNotWorse     0.000000      0.000000     0.000000   \n",
       "DebtRatio                                0.209940      0.606291     0.309476   \n",
       "MonthlyIncome                         3500.000000  23684.000000  2500.000000   \n",
       "NumberOfOpenCreditLinesAndLoans          8.000000      9.000000     5.000000   \n",
       "NumberOfTimes90DaysLate                  0.000000      0.000000     0.000000   \n",
       "NumberRealEstateLoansOrLines             0.000000      4.000000     0.000000   \n",
       "NumberOfTime60-89DaysPastDueNotWorse     0.000000      0.000000     0.000000   \n",
       "NumberOfDependents                       0.000000      2.000000     0.000000   \n",
       "\n",
       "                                                9  \n",
       "Unnamed: 0                              12.000000  \n",
       "SeriousDlqin2yrs                         0.000000  \n",
       "RevolvingUtilizationOfUnsecuredLines     0.018798  \n",
       "age                                     51.000000  \n",
       "NumberOfTime30-59DaysPastDueNotWorse     0.000000  \n",
       "DebtRatio                                0.531529  \n",
       "MonthlyIncome                         6501.000000  \n",
       "NumberOfOpenCreditLinesAndLoans          7.000000  \n",
       "NumberOfTimes90DaysLate                  0.000000  \n",
       "NumberRealEstateLoansOrLines             2.000000  \n",
       "NumberOfTime60-89DaysPastDueNotWorse     0.000000  \n",
       "NumberOfDependents                       2.000000  "
      ]
     },
     "execution_count": 5,
     "metadata": {},
     "output_type": "execute_result"
    }
   ],
   "source": [
    "data = pd.read_csv(\"sample_data.csv\")\n",
    "data.head(10).T"
   ]
  },
  {
   "cell_type": "markdown",
   "id": "9251cc93-cf76-4074-9641-7ca6b4d593a6",
   "metadata": {},
   "source": [
    "### The sample function randomly samples 10 rows from the DataFrame"
   ]
  },
  {
   "cell_type": "code",
   "execution_count": 6,
   "id": "ecafb913-897f-455c-80cf-294a75877f27",
   "metadata": {},
   "outputs": [
    {
     "data": {
      "text/html": [
       "<div>\n",
       "<style scoped>\n",
       "    .dataframe tbody tr th:only-of-type {\n",
       "        vertical-align: middle;\n",
       "    }\n",
       "\n",
       "    .dataframe tbody tr th {\n",
       "        vertical-align: top;\n",
       "    }\n",
       "\n",
       "    .dataframe thead th {\n",
       "        text-align: right;\n",
       "    }\n",
       "</style>\n",
       "<table border=\"1\" class=\"dataframe\">\n",
       "  <thead>\n",
       "    <tr style=\"text-align: right;\">\n",
       "      <th></th>\n",
       "      <th>101863</th>\n",
       "      <th>19008</th>\n",
       "      <th>117997</th>\n",
       "      <th>99895</th>\n",
       "      <th>45042</th>\n",
       "      <th>114519</th>\n",
       "      <th>59952</th>\n",
       "      <th>40287</th>\n",
       "      <th>119531</th>\n",
       "      <th>20013</th>\n",
       "    </tr>\n",
       "  </thead>\n",
       "  <tbody>\n",
       "    <tr>\n",
       "      <th>Unnamed: 0</th>\n",
       "      <td>127060.000000</td>\n",
       "      <td>23774.000000</td>\n",
       "      <td>147171.000000</td>\n",
       "      <td>124606.00000</td>\n",
       "      <td>56218.000000</td>\n",
       "      <td>142826.000000</td>\n",
       "      <td>74749.00000</td>\n",
       "      <td>50352.000000</td>\n",
       "      <td>149078.000000</td>\n",
       "      <td>25025.000000</td>\n",
       "    </tr>\n",
       "    <tr>\n",
       "      <th>SeriousDlqin2yrs</th>\n",
       "      <td>0.000000</td>\n",
       "      <td>1.000000</td>\n",
       "      <td>0.000000</td>\n",
       "      <td>1.00000</td>\n",
       "      <td>0.000000</td>\n",
       "      <td>0.000000</td>\n",
       "      <td>1.00000</td>\n",
       "      <td>0.000000</td>\n",
       "      <td>0.000000</td>\n",
       "      <td>0.000000</td>\n",
       "    </tr>\n",
       "    <tr>\n",
       "      <th>RevolvingUtilizationOfUnsecuredLines</th>\n",
       "      <td>0.018762</td>\n",
       "      <td>0.639319</td>\n",
       "      <td>0.407724</td>\n",
       "      <td>1.00000</td>\n",
       "      <td>0.023977</td>\n",
       "      <td>0.491959</td>\n",
       "      <td>1.00000</td>\n",
       "      <td>0.000453</td>\n",
       "      <td>0.058108</td>\n",
       "      <td>0.000000</td>\n",
       "    </tr>\n",
       "    <tr>\n",
       "      <th>age</th>\n",
       "      <td>40.000000</td>\n",
       "      <td>63.000000</td>\n",
       "      <td>69.000000</td>\n",
       "      <td>37.00000</td>\n",
       "      <td>36.000000</td>\n",
       "      <td>45.000000</td>\n",
       "      <td>50.00000</td>\n",
       "      <td>58.000000</td>\n",
       "      <td>63.000000</td>\n",
       "      <td>43.000000</td>\n",
       "    </tr>\n",
       "    <tr>\n",
       "      <th>NumberOfTime30-59DaysPastDueNotWorse</th>\n",
       "      <td>0.000000</td>\n",
       "      <td>0.000000</td>\n",
       "      <td>0.000000</td>\n",
       "      <td>0.00000</td>\n",
       "      <td>0.000000</td>\n",
       "      <td>0.000000</td>\n",
       "      <td>2.00000</td>\n",
       "      <td>2.000000</td>\n",
       "      <td>0.000000</td>\n",
       "      <td>0.000000</td>\n",
       "    </tr>\n",
       "    <tr>\n",
       "      <th>DebtRatio</th>\n",
       "      <td>0.362659</td>\n",
       "      <td>0.704918</td>\n",
       "      <td>0.313948</td>\n",
       "      <td>0.30288</td>\n",
       "      <td>0.678491</td>\n",
       "      <td>0.653061</td>\n",
       "      <td>0.12802</td>\n",
       "      <td>0.214443</td>\n",
       "      <td>0.409190</td>\n",
       "      <td>0.494584</td>\n",
       "    </tr>\n",
       "    <tr>\n",
       "      <th>MonthlyIncome</th>\n",
       "      <td>4000.000000</td>\n",
       "      <td>2500.000000</td>\n",
       "      <td>2200.000000</td>\n",
       "      <td>5833.00000</td>\n",
       "      <td>3100.000000</td>\n",
       "      <td>5732.000000</td>\n",
       "      <td>5256.00000</td>\n",
       "      <td>65000.000000</td>\n",
       "      <td>15559.000000</td>\n",
       "      <td>6000.000000</td>\n",
       "    </tr>\n",
       "    <tr>\n",
       "      <th>NumberOfOpenCreditLinesAndLoans</th>\n",
       "      <td>6.000000</td>\n",
       "      <td>8.000000</td>\n",
       "      <td>7.000000</td>\n",
       "      <td>5.00000</td>\n",
       "      <td>4.000000</td>\n",
       "      <td>13.000000</td>\n",
       "      <td>1.00000</td>\n",
       "      <td>8.000000</td>\n",
       "      <td>20.000000</td>\n",
       "      <td>7.000000</td>\n",
       "    </tr>\n",
       "    <tr>\n",
       "      <th>NumberOfTimes90DaysLate</th>\n",
       "      <td>0.000000</td>\n",
       "      <td>0.000000</td>\n",
       "      <td>0.000000</td>\n",
       "      <td>0.00000</td>\n",
       "      <td>0.000000</td>\n",
       "      <td>0.000000</td>\n",
       "      <td>0.00000</td>\n",
       "      <td>0.000000</td>\n",
       "      <td>0.000000</td>\n",
       "      <td>0.000000</td>\n",
       "    </tr>\n",
       "    <tr>\n",
       "      <th>NumberRealEstateLoansOrLines</th>\n",
       "      <td>2.000000</td>\n",
       "      <td>0.000000</td>\n",
       "      <td>0.000000</td>\n",
       "      <td>0.00000</td>\n",
       "      <td>1.000000</td>\n",
       "      <td>1.000000</td>\n",
       "      <td>0.00000</td>\n",
       "      <td>1.000000</td>\n",
       "      <td>3.000000</td>\n",
       "      <td>2.000000</td>\n",
       "    </tr>\n",
       "    <tr>\n",
       "      <th>NumberOfTime60-89DaysPastDueNotWorse</th>\n",
       "      <td>0.000000</td>\n",
       "      <td>0.000000</td>\n",
       "      <td>0.000000</td>\n",
       "      <td>0.00000</td>\n",
       "      <td>0.000000</td>\n",
       "      <td>0.000000</td>\n",
       "      <td>1.00000</td>\n",
       "      <td>0.000000</td>\n",
       "      <td>0.000000</td>\n",
       "      <td>0.000000</td>\n",
       "    </tr>\n",
       "    <tr>\n",
       "      <th>NumberOfDependents</th>\n",
       "      <td>0.000000</td>\n",
       "      <td>0.000000</td>\n",
       "      <td>0.000000</td>\n",
       "      <td>2.00000</td>\n",
       "      <td>1.000000</td>\n",
       "      <td>1.000000</td>\n",
       "      <td>0.00000</td>\n",
       "      <td>0.000000</td>\n",
       "      <td>0.000000</td>\n",
       "      <td>0.000000</td>\n",
       "    </tr>\n",
       "  </tbody>\n",
       "</table>\n",
       "</div>"
      ],
      "text/plain": [
       "                                             101863        19008   \\\n",
       "Unnamed: 0                            127060.000000  23774.000000   \n",
       "SeriousDlqin2yrs                           0.000000      1.000000   \n",
       "RevolvingUtilizationOfUnsecuredLines       0.018762      0.639319   \n",
       "age                                       40.000000     63.000000   \n",
       "NumberOfTime30-59DaysPastDueNotWorse       0.000000      0.000000   \n",
       "DebtRatio                                  0.362659      0.704918   \n",
       "MonthlyIncome                           4000.000000   2500.000000   \n",
       "NumberOfOpenCreditLinesAndLoans            6.000000      8.000000   \n",
       "NumberOfTimes90DaysLate                    0.000000      0.000000   \n",
       "NumberRealEstateLoansOrLines               2.000000      0.000000   \n",
       "NumberOfTime60-89DaysPastDueNotWorse       0.000000      0.000000   \n",
       "NumberOfDependents                         0.000000      0.000000   \n",
       "\n",
       "                                             117997        99895   \\\n",
       "Unnamed: 0                            147171.000000  124606.00000   \n",
       "SeriousDlqin2yrs                           0.000000       1.00000   \n",
       "RevolvingUtilizationOfUnsecuredLines       0.407724       1.00000   \n",
       "age                                       69.000000      37.00000   \n",
       "NumberOfTime30-59DaysPastDueNotWorse       0.000000       0.00000   \n",
       "DebtRatio                                  0.313948       0.30288   \n",
       "MonthlyIncome                           2200.000000    5833.00000   \n",
       "NumberOfOpenCreditLinesAndLoans            7.000000       5.00000   \n",
       "NumberOfTimes90DaysLate                    0.000000       0.00000   \n",
       "NumberRealEstateLoansOrLines               0.000000       0.00000   \n",
       "NumberOfTime60-89DaysPastDueNotWorse       0.000000       0.00000   \n",
       "NumberOfDependents                         0.000000       2.00000   \n",
       "\n",
       "                                            45042          114519  \\\n",
       "Unnamed: 0                            56218.000000  142826.000000   \n",
       "SeriousDlqin2yrs                          0.000000       0.000000   \n",
       "RevolvingUtilizationOfUnsecuredLines      0.023977       0.491959   \n",
       "age                                      36.000000      45.000000   \n",
       "NumberOfTime30-59DaysPastDueNotWorse      0.000000       0.000000   \n",
       "DebtRatio                                 0.678491       0.653061   \n",
       "MonthlyIncome                          3100.000000    5732.000000   \n",
       "NumberOfOpenCreditLinesAndLoans           4.000000      13.000000   \n",
       "NumberOfTimes90DaysLate                   0.000000       0.000000   \n",
       "NumberRealEstateLoansOrLines              1.000000       1.000000   \n",
       "NumberOfTime60-89DaysPastDueNotWorse      0.000000       0.000000   \n",
       "NumberOfDependents                        1.000000       1.000000   \n",
       "\n",
       "                                           59952         40287   \\\n",
       "Unnamed: 0                            74749.00000  50352.000000   \n",
       "SeriousDlqin2yrs                          1.00000      0.000000   \n",
       "RevolvingUtilizationOfUnsecuredLines      1.00000      0.000453   \n",
       "age                                      50.00000     58.000000   \n",
       "NumberOfTime30-59DaysPastDueNotWorse      2.00000      2.000000   \n",
       "DebtRatio                                 0.12802      0.214443   \n",
       "MonthlyIncome                          5256.00000  65000.000000   \n",
       "NumberOfOpenCreditLinesAndLoans           1.00000      8.000000   \n",
       "NumberOfTimes90DaysLate                   0.00000      0.000000   \n",
       "NumberRealEstateLoansOrLines              0.00000      1.000000   \n",
       "NumberOfTime60-89DaysPastDueNotWorse      1.00000      0.000000   \n",
       "NumberOfDependents                        0.00000      0.000000   \n",
       "\n",
       "                                             119531        20013   \n",
       "Unnamed: 0                            149078.000000  25025.000000  \n",
       "SeriousDlqin2yrs                           0.000000      0.000000  \n",
       "RevolvingUtilizationOfUnsecuredLines       0.058108      0.000000  \n",
       "age                                       63.000000     43.000000  \n",
       "NumberOfTime30-59DaysPastDueNotWorse       0.000000      0.000000  \n",
       "DebtRatio                                  0.409190      0.494584  \n",
       "MonthlyIncome                          15559.000000   6000.000000  \n",
       "NumberOfOpenCreditLinesAndLoans           20.000000      7.000000  \n",
       "NumberOfTimes90DaysLate                    0.000000      0.000000  \n",
       "NumberRealEstateLoansOrLines               3.000000      2.000000  \n",
       "NumberOfTime60-89DaysPastDueNotWorse       0.000000      0.000000  \n",
       "NumberOfDependents                         0.000000      0.000000  "
      ]
     },
     "execution_count": 6,
     "metadata": {},
     "output_type": "execute_result"
    }
   ],
   "source": [
    "data.sample(10).T"
   ]
  },
  {
   "cell_type": "markdown",
   "id": "bcd20975-5d02-4467-b1df-9187c8f632c6",
   "metadata": {},
   "source": [
    "### Data dimension"
   ]
  },
  {
   "cell_type": "code",
   "execution_count": 7,
   "id": "a50282fe-88f0-49f0-b0d3-76ac51ab450c",
   "metadata": {},
   "outputs": [
    {
     "data": {
      "text/plain": [
       "(120269, 12)"
      ]
     },
     "execution_count": 7,
     "metadata": {},
     "output_type": "execute_result"
    }
   ],
   "source": [
    "data.shape"
   ]
  },
  {
   "cell_type": "code",
   "execution_count": 8,
   "id": "dd2a4231-8d0c-4462-a47a-e95468056042",
   "metadata": {},
   "outputs": [],
   "source": [
    "### Data columns"
   ]
  },
  {
   "cell_type": "code",
   "execution_count": 9,
   "id": "58eca2af-c009-41fc-9439-64961bd1f806",
   "metadata": {},
   "outputs": [
    {
     "data": {
      "text/plain": [
       "Index(['Unnamed: 0', 'SeriousDlqin2yrs',\n",
       "       'RevolvingUtilizationOfUnsecuredLines', 'age',\n",
       "       'NumberOfTime30-59DaysPastDueNotWorse', 'DebtRatio', 'MonthlyIncome',\n",
       "       'NumberOfOpenCreditLinesAndLoans', 'NumberOfTimes90DaysLate',\n",
       "       'NumberRealEstateLoansOrLines', 'NumberOfTime60-89DaysPastDueNotWorse',\n",
       "       'NumberOfDependents'],\n",
       "      dtype='object')"
      ]
     },
     "execution_count": 9,
     "metadata": {},
     "output_type": "execute_result"
    }
   ],
   "source": [
    "data.columns"
   ]
  },
  {
   "cell_type": "markdown",
   "id": "86532402-d676-43e2-a05a-1ff32a533870",
   "metadata": {},
   "source": [
    "## Find out how many unique labels/classes are there in the dataset"
   ]
  },
  {
   "cell_type": "code",
   "execution_count": 10,
   "id": "1998b832-fdea-404c-9968-afa46231f21d",
   "metadata": {},
   "outputs": [
    {
     "data": {
      "text/plain": [
       "array([ 2.,  1.,  0.,  3.,  4.,  5.,  6.,  8.,  7., 20., 10.,  9., 13.])"
      ]
     },
     "execution_count": 10,
     "metadata": {},
     "output_type": "execute_result"
    }
   ],
   "source": [
    "data['NumberOfDependents'].unique()"
   ]
  },
  {
   "cell_type": "code",
   "execution_count": 11,
   "id": "78d7b05d-74be-455b-9ef2-12bdb046adb4",
   "metadata": {},
   "outputs": [],
   "source": [
    "#### Wondering who has 20 dependents"
   ]
  },
  {
   "cell_type": "code",
   "execution_count": 12,
   "id": "30fbe730-1696-4ece-85df-f709fc37b70f",
   "metadata": {},
   "outputs": [
    {
     "data": {
      "text/html": [
       "<div>\n",
       "<style scoped>\n",
       "    .dataframe tbody tr th:only-of-type {\n",
       "        vertical-align: middle;\n",
       "    }\n",
       "\n",
       "    .dataframe tbody tr th {\n",
       "        vertical-align: top;\n",
       "    }\n",
       "\n",
       "    .dataframe thead th {\n",
       "        text-align: right;\n",
       "    }\n",
       "</style>\n",
       "<table border=\"1\" class=\"dataframe\">\n",
       "  <thead>\n",
       "    <tr style=\"text-align: right;\">\n",
       "      <th></th>\n",
       "      <th>Unnamed: 0</th>\n",
       "      <th>SeriousDlqin2yrs</th>\n",
       "      <th>RevolvingUtilizationOfUnsecuredLines</th>\n",
       "      <th>age</th>\n",
       "      <th>NumberOfTime30-59DaysPastDueNotWorse</th>\n",
       "      <th>DebtRatio</th>\n",
       "      <th>MonthlyIncome</th>\n",
       "      <th>NumberOfOpenCreditLinesAndLoans</th>\n",
       "      <th>NumberOfTimes90DaysLate</th>\n",
       "      <th>NumberRealEstateLoansOrLines</th>\n",
       "      <th>NumberOfTime60-89DaysPastDueNotWorse</th>\n",
       "      <th>NumberOfDependents</th>\n",
       "    </tr>\n",
       "  </thead>\n",
       "  <tbody>\n",
       "    <tr>\n",
       "      <th>5075</th>\n",
       "      <td>6300</td>\n",
       "      <td>0</td>\n",
       "      <td>0.226616</td>\n",
       "      <td>40</td>\n",
       "      <td>1</td>\n",
       "      <td>0.576539</td>\n",
       "      <td>6316.0</td>\n",
       "      <td>11</td>\n",
       "      <td>2</td>\n",
       "      <td>1</td>\n",
       "      <td>0</td>\n",
       "      <td>20.0</td>\n",
       "    </tr>\n",
       "  </tbody>\n",
       "</table>\n",
       "</div>"
      ],
      "text/plain": [
       "      Unnamed: 0  SeriousDlqin2yrs  RevolvingUtilizationOfUnsecuredLines  age  \\\n",
       "5075        6300                 0                              0.226616   40   \n",
       "\n",
       "      NumberOfTime30-59DaysPastDueNotWorse  DebtRatio  MonthlyIncome  \\\n",
       "5075                                     1   0.576539         6316.0   \n",
       "\n",
       "      NumberOfOpenCreditLinesAndLoans  NumberOfTimes90DaysLate  \\\n",
       "5075                               11                        2   \n",
       "\n",
       "      NumberRealEstateLoansOrLines  NumberOfTime60-89DaysPastDueNotWorse  \\\n",
       "5075                             1                                     0   \n",
       "\n",
       "      NumberOfDependents  \n",
       "5075                20.0  "
      ]
     },
     "execution_count": 12,
     "metadata": {},
     "output_type": "execute_result"
    }
   ],
   "source": [
    "data.loc[data['NumberOfDependents']>=20]"
   ]
  },
  {
   "cell_type": "code",
   "execution_count": 13,
   "id": "5f4e8510-04a8-4110-94ce-5fd5d84d5a4d",
   "metadata": {},
   "outputs": [],
   "source": [
    "# Import the Counter class\n",
    "from collections import Counter"
   ]
  },
  {
   "cell_type": "markdown",
   "id": "c6990833-993a-4ac9-b100-1d4ccbeeaad2",
   "metadata": {},
   "source": [
    "## See how the different classes[age] in the dataset are distributed below"
   ]
  },
  {
   "cell_type": "code",
   "execution_count": 14,
   "id": "43c398ef-7e3f-4298-89d3-c7bb8125088f",
   "metadata": {},
   "outputs": [
    {
     "data": {
      "text/plain": [
       "[(49, 3217),\n",
       " (48, 3163),\n",
       " (47, 3134),\n",
       " (46, 3117),\n",
       " (50, 3105),\n",
       " (51, 3001),\n",
       " (53, 2974),\n",
       " (45, 2969),\n",
       " (52, 2951),\n",
       " (54, 2905),\n",
       " (56, 2846),\n",
       " (44, 2820),\n",
       " (63, 2802),\n",
       " (43, 2751),\n",
       " (55, 2745),\n",
       " (62, 2725),\n",
       " (61, 2713),\n",
       " (58, 2702),\n",
       " (57, 2699),\n",
       " (41, 2660),\n",
       " (40, 2645),\n",
       " (42, 2633),\n",
       " (59, 2574),\n",
       " (39, 2566),\n",
       " (60, 2505),\n",
       " (64, 2278),\n",
       " (38, 2266),\n",
       " (37, 2157),\n",
       " (36, 2056),\n",
       " (33, 1957),\n",
       " (35, 1930),\n",
       " (65, 1922),\n",
       " (66, 1874),\n",
       " (34, 1867),\n",
       " (67, 1835),\n",
       " (32, 1804),\n",
       " (31, 1783),\n",
       " (30, 1674),\n",
       " (68, 1613),\n",
       " (29, 1468),\n",
       " (69, 1443),\n",
       " (28, 1349),\n",
       " (70, 1270),\n",
       " (72, 1226),\n",
       " (71, 1212),\n",
       " (27, 1126),\n",
       " (73, 1093),\n",
       " (74, 1059),\n",
       " (26, 1012),\n",
       " (75, 860),\n",
       " (76, 839),\n",
       " (25, 797),\n",
       " (77, 775),\n",
       " (78, 749),\n",
       " (79, 697),\n",
       " (24, 652),\n",
       " (80, 621),\n",
       " (81, 530),\n",
       " (23, 515),\n",
       " (82, 443),\n",
       " (22, 329),\n",
       " (83, 317),\n",
       " (85, 309),\n",
       " (84, 304),\n",
       " (86, 254),\n",
       " (87, 211),\n",
       " (88, 193),\n",
       " (89, 178),\n",
       " (21, 130),\n",
       " (90, 114),\n",
       " (91, 83),\n",
       " (92, 55),\n",
       " (93, 48),\n",
       " (94, 21),\n",
       " (95, 20),\n",
       " (97, 10),\n",
       " (96, 6),\n",
       " (98, 3),\n",
       " (99, 3),\n",
       " (103, 2),\n",
       " (102, 2),\n",
       " (101, 2),\n",
       " (0, 1)]"
      ]
     },
     "execution_count": 14,
     "metadata": {},
     "output_type": "execute_result"
    }
   ],
   "source": [
    "classes = Counter(data[\"age\"].values)\n",
    "classes.most_common()"
   ]
  },
  {
   "cell_type": "code",
   "execution_count": 15,
   "id": "94a3a01f-0bc2-4cd8-b993-63d129120244",
   "metadata": {},
   "outputs": [
    {
     "data": {
      "text/html": [
       "<div>\n",
       "<style scoped>\n",
       "    .dataframe tbody tr th:only-of-type {\n",
       "        vertical-align: middle;\n",
       "    }\n",
       "\n",
       "    .dataframe tbody tr th {\n",
       "        vertical-align: top;\n",
       "    }\n",
       "\n",
       "    .dataframe thead th {\n",
       "        text-align: right;\n",
       "    }\n",
       "</style>\n",
       "<table border=\"1\" class=\"dataframe\">\n",
       "  <thead>\n",
       "    <tr style=\"text-align: right;\">\n",
       "      <th></th>\n",
       "      <th>Age</th>\n",
       "      <th>Num_Observations</th>\n",
       "    </tr>\n",
       "  </thead>\n",
       "  <tbody>\n",
       "    <tr>\n",
       "      <th>0</th>\n",
       "      <td>49</td>\n",
       "      <td>3217</td>\n",
       "    </tr>\n",
       "    <tr>\n",
       "      <th>1</th>\n",
       "      <td>48</td>\n",
       "      <td>3163</td>\n",
       "    </tr>\n",
       "    <tr>\n",
       "      <th>2</th>\n",
       "      <td>47</td>\n",
       "      <td>3134</td>\n",
       "    </tr>\n",
       "    <tr>\n",
       "      <th>3</th>\n",
       "      <td>46</td>\n",
       "      <td>3117</td>\n",
       "    </tr>\n",
       "    <tr>\n",
       "      <th>4</th>\n",
       "      <td>50</td>\n",
       "      <td>3105</td>\n",
       "    </tr>\n",
       "    <tr>\n",
       "      <th>...</th>\n",
       "      <td>...</td>\n",
       "      <td>...</td>\n",
       "    </tr>\n",
       "    <tr>\n",
       "      <th>78</th>\n",
       "      <td>99</td>\n",
       "      <td>3</td>\n",
       "    </tr>\n",
       "    <tr>\n",
       "      <th>79</th>\n",
       "      <td>103</td>\n",
       "      <td>2</td>\n",
       "    </tr>\n",
       "    <tr>\n",
       "      <th>80</th>\n",
       "      <td>102</td>\n",
       "      <td>2</td>\n",
       "    </tr>\n",
       "    <tr>\n",
       "      <th>81</th>\n",
       "      <td>101</td>\n",
       "      <td>2</td>\n",
       "    </tr>\n",
       "    <tr>\n",
       "      <th>82</th>\n",
       "      <td>0</td>\n",
       "      <td>1</td>\n",
       "    </tr>\n",
       "  </tbody>\n",
       "</table>\n",
       "<p>83 rows × 2 columns</p>\n",
       "</div>"
      ],
      "text/plain": [
       "    Age  Num_Observations\n",
       "0    49              3217\n",
       "1    48              3163\n",
       "2    47              3134\n",
       "3    46              3117\n",
       "4    50              3105\n",
       "..  ...               ...\n",
       "78   99                 3\n",
       "79  103                 2\n",
       "80  102                 2\n",
       "81  101                 2\n",
       "82    0                 1\n",
       "\n",
       "[83 rows x 2 columns]"
      ]
     },
     "execution_count": 15,
     "metadata": {},
     "output_type": "execute_result"
    }
   ],
   "source": [
    "class_dist = pd.DataFrame(classes.most_common(), columns=['Age', 'Num_Observations'])\n",
    "class_dist"
   ]
  },
  {
   "cell_type": "code",
   "execution_count": 16,
   "id": "a1b35655-8e00-4879-8e40-66e749c40b70",
   "metadata": {},
   "outputs": [
    {
     "data": {
      "text/plain": [
       "Unnamed: 0                              0\n",
       "SeriousDlqin2yrs                        0\n",
       "RevolvingUtilizationOfUnsecuredLines    0\n",
       "age                                     0\n",
       "NumberOfTime30-59DaysPastDueNotWorse    0\n",
       "DebtRatio                               0\n",
       "MonthlyIncome                           0\n",
       "NumberOfOpenCreditLinesAndLoans         0\n",
       "NumberOfTimes90DaysLate                 0\n",
       "NumberRealEstateLoansOrLines            0\n",
       "NumberOfTime60-89DaysPastDueNotWorse    0\n",
       "NumberOfDependents                      0\n",
       "dtype: int64"
      ]
     },
     "execution_count": 16,
     "metadata": {},
     "output_type": "execute_result"
    }
   ],
   "source": [
    "data.isna().sum()"
   ]
  },
  {
   "cell_type": "code",
   "execution_count": 17,
   "id": "b7f65450-64a4-4c17-af9d-96b051158ed9",
   "metadata": {},
   "outputs": [
    {
     "data": {
      "text/html": [
       "<div>\n",
       "<style scoped>\n",
       "    .dataframe tbody tr th:only-of-type {\n",
       "        vertical-align: middle;\n",
       "    }\n",
       "\n",
       "    .dataframe tbody tr th {\n",
       "        vertical-align: top;\n",
       "    }\n",
       "\n",
       "    .dataframe thead th {\n",
       "        text-align: right;\n",
       "    }\n",
       "</style>\n",
       "<table border=\"1\" class=\"dataframe\">\n",
       "  <thead>\n",
       "    <tr style=\"text-align: right;\">\n",
       "      <th></th>\n",
       "      <th>count</th>\n",
       "      <th>mean</th>\n",
       "      <th>std</th>\n",
       "      <th>min</th>\n",
       "      <th>25%</th>\n",
       "      <th>50%</th>\n",
       "      <th>75%</th>\n",
       "      <th>max</th>\n",
       "    </tr>\n",
       "  </thead>\n",
       "  <tbody>\n",
       "    <tr>\n",
       "      <th>Unnamed: 0</th>\n",
       "      <td>120269.0</td>\n",
       "      <td>75026.012514</td>\n",
       "      <td>43286.029117</td>\n",
       "      <td>1.0</td>\n",
       "      <td>37678.000000</td>\n",
       "      <td>74969.000000</td>\n",
       "      <td>112494.000000</td>\n",
       "      <td>150000.0</td>\n",
       "    </tr>\n",
       "    <tr>\n",
       "      <th>SeriousDlqin2yrs</th>\n",
       "      <td>120269.0</td>\n",
       "      <td>0.069486</td>\n",
       "      <td>0.254280</td>\n",
       "      <td>0.0</td>\n",
       "      <td>0.000000</td>\n",
       "      <td>0.000000</td>\n",
       "      <td>0.000000</td>\n",
       "      <td>1.0</td>\n",
       "    </tr>\n",
       "    <tr>\n",
       "      <th>RevolvingUtilizationOfUnsecuredLines</th>\n",
       "      <td>120269.0</td>\n",
       "      <td>5.899873</td>\n",
       "      <td>257.040685</td>\n",
       "      <td>0.0</td>\n",
       "      <td>0.035084</td>\n",
       "      <td>0.177282</td>\n",
       "      <td>0.579428</td>\n",
       "      <td>50708.0</td>\n",
       "    </tr>\n",
       "    <tr>\n",
       "      <th>age</th>\n",
       "      <td>120269.0</td>\n",
       "      <td>51.289792</td>\n",
       "      <td>14.426684</td>\n",
       "      <td>0.0</td>\n",
       "      <td>40.000000</td>\n",
       "      <td>51.000000</td>\n",
       "      <td>61.000000</td>\n",
       "      <td>103.0</td>\n",
       "    </tr>\n",
       "    <tr>\n",
       "      <th>NumberOfTime30-59DaysPastDueNotWorse</th>\n",
       "      <td>120269.0</td>\n",
       "      <td>0.381769</td>\n",
       "      <td>3.499234</td>\n",
       "      <td>0.0</td>\n",
       "      <td>0.000000</td>\n",
       "      <td>0.000000</td>\n",
       "      <td>0.000000</td>\n",
       "      <td>98.0</td>\n",
       "    </tr>\n",
       "    <tr>\n",
       "      <th>DebtRatio</th>\n",
       "      <td>120269.0</td>\n",
       "      <td>26.598777</td>\n",
       "      <td>424.446457</td>\n",
       "      <td>0.0</td>\n",
       "      <td>0.143388</td>\n",
       "      <td>0.296023</td>\n",
       "      <td>0.482559</td>\n",
       "      <td>61106.5</td>\n",
       "    </tr>\n",
       "    <tr>\n",
       "      <th>MonthlyIncome</th>\n",
       "      <td>120269.0</td>\n",
       "      <td>6670.221237</td>\n",
       "      <td>14384.674215</td>\n",
       "      <td>0.0</td>\n",
       "      <td>3400.000000</td>\n",
       "      <td>5400.000000</td>\n",
       "      <td>8249.000000</td>\n",
       "      <td>3008750.0</td>\n",
       "    </tr>\n",
       "    <tr>\n",
       "      <th>NumberOfOpenCreditLinesAndLoans</th>\n",
       "      <td>120269.0</td>\n",
       "      <td>8.758475</td>\n",
       "      <td>5.172835</td>\n",
       "      <td>0.0</td>\n",
       "      <td>5.000000</td>\n",
       "      <td>8.000000</td>\n",
       "      <td>11.000000</td>\n",
       "      <td>58.0</td>\n",
       "    </tr>\n",
       "    <tr>\n",
       "      <th>NumberOfTimes90DaysLate</th>\n",
       "      <td>120269.0</td>\n",
       "      <td>0.211925</td>\n",
       "      <td>3.465276</td>\n",
       "      <td>0.0</td>\n",
       "      <td>0.000000</td>\n",
       "      <td>0.000000</td>\n",
       "      <td>0.000000</td>\n",
       "      <td>98.0</td>\n",
       "    </tr>\n",
       "    <tr>\n",
       "      <th>NumberRealEstateLoansOrLines</th>\n",
       "      <td>120269.0</td>\n",
       "      <td>1.054519</td>\n",
       "      <td>1.149273</td>\n",
       "      <td>0.0</td>\n",
       "      <td>0.000000</td>\n",
       "      <td>1.000000</td>\n",
       "      <td>2.000000</td>\n",
       "      <td>54.0</td>\n",
       "    </tr>\n",
       "    <tr>\n",
       "      <th>NumberOfTime60-89DaysPastDueNotWorse</th>\n",
       "      <td>120269.0</td>\n",
       "      <td>0.187829</td>\n",
       "      <td>3.447901</td>\n",
       "      <td>0.0</td>\n",
       "      <td>0.000000</td>\n",
       "      <td>0.000000</td>\n",
       "      <td>0.000000</td>\n",
       "      <td>98.0</td>\n",
       "    </tr>\n",
       "    <tr>\n",
       "      <th>NumberOfDependents</th>\n",
       "      <td>120269.0</td>\n",
       "      <td>0.851832</td>\n",
       "      <td>1.148391</td>\n",
       "      <td>0.0</td>\n",
       "      <td>0.000000</td>\n",
       "      <td>0.000000</td>\n",
       "      <td>2.000000</td>\n",
       "      <td>20.0</td>\n",
       "    </tr>\n",
       "  </tbody>\n",
       "</table>\n",
       "</div>"
      ],
      "text/plain": [
       "                                         count          mean           std  \\\n",
       "Unnamed: 0                            120269.0  75026.012514  43286.029117   \n",
       "SeriousDlqin2yrs                      120269.0      0.069486      0.254280   \n",
       "RevolvingUtilizationOfUnsecuredLines  120269.0      5.899873    257.040685   \n",
       "age                                   120269.0     51.289792     14.426684   \n",
       "NumberOfTime30-59DaysPastDueNotWorse  120269.0      0.381769      3.499234   \n",
       "DebtRatio                             120269.0     26.598777    424.446457   \n",
       "MonthlyIncome                         120269.0   6670.221237  14384.674215   \n",
       "NumberOfOpenCreditLinesAndLoans       120269.0      8.758475      5.172835   \n",
       "NumberOfTimes90DaysLate               120269.0      0.211925      3.465276   \n",
       "NumberRealEstateLoansOrLines          120269.0      1.054519      1.149273   \n",
       "NumberOfTime60-89DaysPastDueNotWorse  120269.0      0.187829      3.447901   \n",
       "NumberOfDependents                    120269.0      0.851832      1.148391   \n",
       "\n",
       "                                      min           25%           50%  \\\n",
       "Unnamed: 0                            1.0  37678.000000  74969.000000   \n",
       "SeriousDlqin2yrs                      0.0      0.000000      0.000000   \n",
       "RevolvingUtilizationOfUnsecuredLines  0.0      0.035084      0.177282   \n",
       "age                                   0.0     40.000000     51.000000   \n",
       "NumberOfTime30-59DaysPastDueNotWorse  0.0      0.000000      0.000000   \n",
       "DebtRatio                             0.0      0.143388      0.296023   \n",
       "MonthlyIncome                         0.0   3400.000000   5400.000000   \n",
       "NumberOfOpenCreditLinesAndLoans       0.0      5.000000      8.000000   \n",
       "NumberOfTimes90DaysLate               0.0      0.000000      0.000000   \n",
       "NumberRealEstateLoansOrLines          0.0      0.000000      1.000000   \n",
       "NumberOfTime60-89DaysPastDueNotWorse  0.0      0.000000      0.000000   \n",
       "NumberOfDependents                    0.0      0.000000      0.000000   \n",
       "\n",
       "                                                75%        max  \n",
       "Unnamed: 0                            112494.000000   150000.0  \n",
       "SeriousDlqin2yrs                           0.000000        1.0  \n",
       "RevolvingUtilizationOfUnsecuredLines       0.579428    50708.0  \n",
       "age                                       61.000000      103.0  \n",
       "NumberOfTime30-59DaysPastDueNotWorse       0.000000       98.0  \n",
       "DebtRatio                                  0.482559    61106.5  \n",
       "MonthlyIncome                           8249.000000  3008750.0  \n",
       "NumberOfOpenCreditLinesAndLoans           11.000000       58.0  \n",
       "NumberOfTimes90DaysLate                    0.000000       98.0  \n",
       "NumberRealEstateLoansOrLines               2.000000       54.0  \n",
       "NumberOfTime60-89DaysPastDueNotWorse       0.000000       98.0  \n",
       "NumberOfDependents                         2.000000       20.0  "
      ]
     },
     "execution_count": 17,
     "metadata": {},
     "output_type": "execute_result"
    }
   ],
   "source": [
    "data.describe().T"
   ]
  },
  {
   "cell_type": "code",
   "execution_count": 18,
   "id": "1675c812-a560-4875-97ee-8fb22801372b",
   "metadata": {},
   "outputs": [
    {
     "name": "stdout",
     "output_type": "stream",
     "text": [
      "<class 'pandas.core.frame.DataFrame'>\n",
      "RangeIndex: 120269 entries, 0 to 120268\n",
      "Data columns (total 12 columns):\n",
      " #   Column                                Non-Null Count   Dtype  \n",
      "---  ------                                --------------   -----  \n",
      " 0   Unnamed: 0                            120269 non-null  int64  \n",
      " 1   SeriousDlqin2yrs                      120269 non-null  int64  \n",
      " 2   RevolvingUtilizationOfUnsecuredLines  120269 non-null  float64\n",
      " 3   age                                   120269 non-null  int64  \n",
      " 4   NumberOfTime30-59DaysPastDueNotWorse  120269 non-null  int64  \n",
      " 5   DebtRatio                             120269 non-null  float64\n",
      " 6   MonthlyIncome                         120269 non-null  float64\n",
      " 7   NumberOfOpenCreditLinesAndLoans       120269 non-null  int64  \n",
      " 8   NumberOfTimes90DaysLate               120269 non-null  int64  \n",
      " 9   NumberRealEstateLoansOrLines          120269 non-null  int64  \n",
      " 10  NumberOfTime60-89DaysPastDueNotWorse  120269 non-null  int64  \n",
      " 11  NumberOfDependents                    120269 non-null  float64\n",
      "dtypes: float64(4), int64(8)\n",
      "memory usage: 11.0 MB\n"
     ]
    }
   ],
   "source": [
    "data.info()"
   ]
  },
  {
   "cell_type": "code",
   "execution_count": 19,
   "id": "c1a46319-40bc-43f8-8456-ffb132ca45ed",
   "metadata": {},
   "outputs": [],
   "source": [
    "# Import seaborn\n",
    "import seaborn as sns"
   ]
  },
  {
   "cell_type": "code",
   "execution_count": 20,
   "id": "f2ae026e-0fe5-4ef7-a547-c7e56573ab6b",
   "metadata": {},
   "outputs": [
    {
     "data": {
      "text/plain": [
       "<AxesSubplot:xlabel='RevolvingUtilizationOfUnsecuredLines'>"
      ]
     },
     "execution_count": 20,
     "metadata": {},
     "output_type": "execute_result"
    },
    {
     "data": {
      "image/png": "[encoded data removed]",
      "text/plain": [
       "<Figure size 432x288 with 1 Axes>"
      ]
     },
     "metadata": {
      "needs_background": "light"
     },
     "output_type": "display_data"
    }
   ],
   "source": [
    "sns.boxplot(data=data, x='RevolvingUtilizationOfUnsecuredLines')"
   ]
  },
  {
   "cell_type": "code",
   "execution_count": 21,
   "id": "f571db43-c0ed-4007-b133-a1e62bcacb0f",
   "metadata": {},
   "outputs": [
    {
     "data": {
      "text/plain": [
       "<AxesSubplot:xlabel='age', ylabel='Density'>"
      ]
     },
     "execution_count": 21,
     "metadata": {},
     "output_type": "execute_result"
    },
    {
     "data": {
      "image/png": "[encoded data removed]",
      "text/plain": [
       "<Figure size 432x288 with 1 Axes>"
      ]
     },
     "metadata": {
      "needs_background": "light"
     },
     "output_type": "display_data"
    }
   ],
   "source": [
    "sns.distplot(data.age)"
   ]
  },
  {
   "cell_type": "code",
   "execution_count": 22,
   "id": "455a27f5-a900-498c-b6a0-31db05611a03",
   "metadata": {},
   "outputs": [
    {
     "data": {
      "text/plain": [
       "<AxesSubplot:xlabel='DebtRatio', ylabel='Density'>"
      ]
     },
     "execution_count": 22,
     "metadata": {},
     "output_type": "execute_result"
    },
    {
     "data": {
      "image/png": "[encoded data removed]",
      "text/plain": [
       "<Figure size 432x288 with 1 Axes>"
      ]
     },
     "metadata": {
      "needs_background": "light"
     },
     "output_type": "display_data"
    }
   ],
   "source": [
    "sns.distplot(data.DebtRatio)"
   ]
  },
  {
   "cell_type": "code",
   "execution_count": 33,
   "id": "c9f64675-0f3d-4629-a0ff-ad03d8a7feb3",
   "metadata": {},
   "outputs": [
    {
     "data": {
      "text/plain": [
       "<seaborn.axisgrid.FacetGrid at 0x11c8a80a0>"
      ]
     },
     "execution_count": 33,
     "metadata": {},
     "output_type": "execute_result"
    },
    {
     "data": {
      "image/png": "[encoded data removed]",
      "text/plain": [
       "<Figure size 360x360 with 1 Axes>"
      ]
     },
     "metadata": {
      "needs_background": "light"
     },
     "output_type": "display_data"
    }
   ],
   "source": [
    "sns.relplot(x = 'age', y = 'MonthlyIncome', data=data)"
   ]
  },
  {
   "cell_type": "code",
   "execution_count": 35,
   "id": "3762375e-d632-4978-a0e6-d2b62f696e94",
   "metadata": {},
   "outputs": [
    {
     "data": {
      "text/plain": [
       "<seaborn.axisgrid.FacetGrid at 0x11d6337f0>"
      ]
     },
     "execution_count": 35,
     "metadata": {},
     "output_type": "execute_result"
    },
    {
     "data": {
      "image/png": "[encoded data removed]",
      "text/plain": [
       "<Figure size 360x360 with 1 Axes>"
      ]
     },
     "metadata": {
      "needs_background": "light"
     },
     "output_type": "display_data"
    }
   ],
   "source": [
    "sns.relplot(x = 'MonthlyIncome', y = 'DebtRatio', data=data)"
   ]
  },
  {
   "cell_type": "markdown",
   "id": "3b5e4217-5c29-4a30-b73e-d01569b2944b",
   "metadata": {},
   "source": [
    "## Senario 1, Assuming total balance of credit and debt has 50% creteria to \"pass\" assessment as a good score, for example"
   ]
  },
  {
   "cell_type": "code",
   "execution_count": 24,
   "id": "eee9c6d9-6d21-4b01-9232-c201783855c7",
   "metadata": {},
   "outputs": [],
   "source": [
    "from sklearn.model_selection import train_test_split"
   ]
  },
  {
   "cell_type": "code",
   "execution_count": 25,
   "id": "d510da18-f7c6-43a8-bd8e-eb3233fc9c35",
   "metadata": {},
   "outputs": [
    {
     "name": "stdout",
     "output_type": "stream",
     "text": [
      "[[ 0  0 30 ...  0  0  0]\n",
      " [ 0  0 81 ...  0  0  0]\n",
      " [ 0  0 26 ...  0  0  1]\n",
      " ...\n",
      " [ 0  0 50 ...  2  0  1]\n",
      " [ 0  0 43 ...  1  0  2]\n",
      " [ 1  0 55 ...  1  1  2]] [0 0 0 ... 0 1 1]\n"
     ]
    }
   ],
   "source": [
    "data['result'] = (data['age']<=90) & (data['RevolvingUtilizationOfUnsecuredLines']>=.5) & (data['DebtRatio']<=.5)\n",
    "\n",
    "X = data.iloc[:,1:12].values.astype(int)\n",
    "y = data.iloc[:,12].values.astype(int)\n",
    "\n",
    "X_train, X_test, y_train, y_test = train_test_split(X, y, test_size=0.2, random_state=np.random.seed(7))\n",
    "\n",
    "print(X_train, y_train)"
   ]
  },
  {
   "cell_type": "code",
   "execution_count": 26,
   "id": "60f75101-bc11-4815-be88-886b9516aa2a",
   "metadata": {},
   "outputs": [],
   "source": [
    "# Import GridSearchCV\n",
    "from sklearn.model_selection import RandomizedSearchCV\n",
    "\n",
    "# Other imports\n",
    "from sklearn.linear_model import LogisticRegression\n",
    "from sklearn.utils.fixes import loguniform"
   ]
  },
  {
   "cell_type": "code",
   "execution_count": 27,
   "id": "eb7cb0d4-7e06-4869-a1a9-9a474fb9411a",
   "metadata": {},
   "outputs": [],
   "source": [
    "logreg = LogisticRegression()\n",
    "\n",
    "# Create a dictionary param_grid = C=loguniform(0.01, 1) as a continuous random variable\n",
    "param_grid = dict(C=loguniform(0.01, 1))"
   ]
  },
  {
   "cell_type": "code",
   "execution_count": 28,
   "id": "80154a56-c6f4-4e25-b443-e5cbe8eef52d",
   "metadata": {},
   "outputs": [
    {
     "name": "stdout",
     "output_type": "stream",
     "text": [
      "Best score: 82.11 using {'C': 0.11108015822053222}\n"
     ]
    }
   ],
   "source": [
    "# Instantiate RandomizedSearchCV with the required parameters\n",
    "random_model = RandomizedSearchCV(estimator=logreg, param_distributions=param_grid, cv=5)\n",
    "\n",
    "# Fit random_model to the data\n",
    "random_model_result = random_model.fit(X_train, y_train)\n",
    "\n",
    "# Summarize results\n",
    "best_score, best_params = random_model_result.best_score_, random_model_result.best_params_\n",
    "print(\"Best score: %.2f using %s\" % (best_score*100., best_params))"
   ]
  },
  {
   "cell_type": "code",
   "execution_count": 29,
   "id": "c6fa0334-7ed5-4352-b0f3-3d302b578ed9",
   "metadata": {},
   "outputs": [
    {
     "data": {
      "text/plain": [
       "0.8158726199384718"
      ]
     },
     "execution_count": 29,
     "metadata": {},
     "output_type": "execute_result"
    }
   ],
   "source": [
    "random_model_result.score(X_test, y_test)"
   ]
  },
  {
   "cell_type": "code",
   "execution_count": null,
   "id": "cb8a14be-51f4-4391-bc65-b4b71b598da6",
   "metadata": {},
   "outputs": [],
   "source": []
  }
 ],
 "metadata": {
  "kernelspec": {
   "display_name": "Python 3",
   "language": "python",
   "name": "python3"
  },
  "language_info": {
   "codemirror_mode": {
    "name": "ipython",
    "version": 3
   },
   "file_extension": ".py",
   "mimetype": "text/x-python",
   "name": "python",
   "nbconvert_exporter": "python",
   "pygments_lexer": "ipython3",
   "version": "3.9.7"
  }
 },
 "nbformat": 4,
 "nbformat_minor": 5
}
